{
 "cells": [
  {
   "cell_type": "code",
   "execution_count": 2,
   "metadata": {},
   "outputs": [
    {
     "name": "stdout",
     "output_type": "stream",
     "text": [
      "Задача 1\n",
      "[[12]\n",
      " [13]\n",
      " [14]\n",
      " [15]\n",
      " [16]\n",
      " [17]\n",
      " [18]\n",
      " [19]\n",
      " [20]\n",
      " [21]\n",
      " [22]\n",
      " [23]]\n",
      "[12 13 14 15 16 17 18 19 20 21 22 23]\n"
     ]
    }
   ],
   "source": [
    "print('Задача 1')\n",
    "'''1. Создать одномерный массив Numpy под названием a из 12 последовательных целых чисел от 12 до 24 невключительно.'''\n",
    "import numpy as np\n",
    "\n",
    "a = np.array([[12],\n",
    "              [13],\n",
    "              [14],\n",
    "              [15],\n",
    "              [16],\n",
    "              [17],\n",
    "              [18],\n",
    "              [19],\n",
    "              [20],\n",
    "              [21],\n",
    "              [22],\n",
    "              [23],])\n",
    "print(a)\n",
    "\n",
    "a = np.arange(12, 24)\n",
    "print(a)"
   ]
  },
  {
   "cell_type": "code",
   "execution_count": 4,
   "metadata": {},
   "outputs": [
    {
     "name": "stdout",
     "output_type": "stream",
     "text": [
      "Задача 2\n",
      "a1\n",
      "[[12 13 14 15 16 17]\n",
      " [18 19 20 21 22 23]]\n",
      "a2\n",
      "[[12 13]\n",
      " [14 15]\n",
      " [16 17]\n",
      " [18 19]\n",
      " [20 21]\n",
      " [22 23]]\n",
      "a3\n",
      "[[12 13 14 15]\n",
      " [16 17 18 19]\n",
      " [20 21 22 23]]\n",
      "a4\n",
      "[[12 13 14]\n",
      " [15 16 17]\n",
      " [18 19 20]\n",
      " [21 22 23]]\n",
      "a5\n",
      "[[12 13 14 15 16 17 18 19 20 21 22 23]\n",
      " [12 13 14 15 16 17 18 19 20 21 22 23]]\n"
     ]
    }
   ],
   "source": [
    "print('Задача 2')\n",
    "'''2. Создать 5 двумерных массивов разной формы из массива a. Не использовать в аргументах метода reshape число -1.'''\n",
    "\n",
    "a1 = a.reshape(2, 6)\n",
    "print('a1')\n",
    "print(a1)\n",
    "a2 = a.reshape(6, 2)\n",
    "print('a2')\n",
    "print(a2)\n",
    "\n",
    "a3 = a.reshape(3, 4)\n",
    "print('a3')\n",
    "print(a3)\n",
    "\n",
    "a4 = a.reshape(4, 3)\n",
    "print('a4')\n",
    "print(a4)\n",
    "\n",
    "a5 = np.vstack((a, a))\n",
    "print('a5')\n",
    "print(a5)"
   ]
  },
  {
   "cell_type": "code",
   "execution_count": 6,
   "metadata": {},
   "outputs": [
    {
     "name": "stdout",
     "output_type": "stream",
     "text": [
      "Задача 3\n",
      "b1\n",
      "[[12 13 14 15 16 17]\n",
      " [18 19 20 21 22 23]]\n",
      "b2\n",
      "[[12 13]\n",
      " [14 15]\n",
      " [16 17]\n",
      " [18 19]\n",
      " [20 21]\n",
      " [22 23]]\n",
      "b3\n",
      "[[12 13 14 15]\n",
      " [16 17 18 19]\n",
      " [20 21 22 23]]\n",
      "b4\n",
      "[[12 13 14]\n",
      " [15 16 17]\n",
      " [18 19 20]\n",
      " [21 22 23]]\n",
      "b5\n",
      "[[12 13 14 15 16 17 18 19 20 21 22 23]\n",
      " [12 13 14 15 16 17 18 19 20 21 22 23]]\n"
     ]
    }
   ],
   "source": [
    "print('Задача 3')\n",
    "'''\n",
    "Создать 5 двумерных массивов разной формы из массива a. Использовать в аргументах метода reshape число -1\n",
    "(в трех примерах — для обозначения числа столбцов, в двух — для строк).\n",
    "'''\n",
    "\n",
    "b1 = a.reshape(-1, 6)\n",
    "print('b1')\n",
    "print(b1)\n",
    "b2 = a.reshape(-1, 2)\n",
    "print('b2')\n",
    "print(b2)\n",
    "\n",
    "b3 = a.reshape(3, -1)\n",
    "print('b3')\n",
    "print(b3)\n",
    "\n",
    "b4 = a.reshape(4, -1)\n",
    "print('b4')\n",
    "print(b4)\n",
    "\n",
    "b5 = np.vstack((a, a))\n",
    "print('b5')\n",
    "print(b5)"
   ]
  },
  {
   "cell_type": "code",
   "execution_count": 4,
   "metadata": {},
   "outputs": [
    {
     "name": "stdout",
     "output_type": "stream",
     "text": [
      "Задача 4\n",
      "4. Можно ли массив Numpy, состоящий из одного столбца и 12 строк, назвать одномерным?\n",
      "- Нет, Нельзя. Это 2-х мерный массив\n"
     ]
    }
   ],
   "source": [
    "print('Задача 4')\n",
    "'''\n",
    "4. Можно ли массив Numpy, состоящий из одного столбца и 12 строк, назвать одномерным?\n",
    "\n",
    "- Да, можно.\n",
    "'''\n",
    "print('4. Можно ли массив Numpy, состоящий из одного столбца и 12 строк, назвать одномерным?')\n",
    "print('- Нет, Нельзя. Это будет 2-х мерный массив')\n"
   ]
  },
  {
   "cell_type": "code",
   "execution_count": 13,
   "metadata": {},
   "outputs": [
    {
     "name": "stdout",
     "output_type": "stream",
     "text": [
      "[[-2.0739571  -0.20487591 -1.7478082  -1.54820429]\n",
      " [-1.92297598 -0.68653219 -0.56652414 -1.20689393]\n",
      " [ 0.13939931  0.55655413  0.08548636  0.08312609]]\n",
      "[[-2.0739571  -0.20487591 -1.7478082  -1.54820429 -1.92297598 -0.68653219\n",
      "  -0.56652414 -1.20689393  0.13939931  0.55655413  0.08548636  0.08312609]]\n"
     ]
    }
   ],
   "source": [
    "print('Задача 5')\n",
    "'''\n",
    " Создать массив из 3 строк и 4 столбцов, состоящий из случайных чисел с плавающей запятой из \n",
    " нормального распределения со средним, равным 0 и среднеквадратичным отклонением, равным 1.0. \n",
    " Получить из этого массива одномерный массив с таким же атрибутом size, как и исходный массив.\n",
    "'''\n",
    "\n",
    "A = np.random.randn(3, 4)\n",
    "print(A)\n",
    "B = A.reshape(1, -1)\n",
    "print(B)"
   ]
  },
  {
   "cell_type": "code",
   "execution_count": 10,
   "metadata": {},
   "outputs": [
    {
     "name": "stdout",
     "output_type": "stream",
     "text": [
      "Задача 6\n",
      "a =   [20 18 16 14 12 10  8  6  4  2]\n",
      "b =   [20 18 16 14 12 10  8  6  4  2]\n",
      "1\n",
      "(10,)\n",
      "1\n",
      "(10,)\n",
      "В итоге, между массивами нет разницы\n"
     ]
    }
   ],
   "source": [
    "print('Задача 6')\n",
    "'''\n",
    "6. Создать массив a, состоящий из целых чисел, убывающих от 20 до 0 невключительно с интервалом 2. \n",
    "Создать массив b, состоящий из 1 строки и 10 столбцов: целых чисел, убывающих от 20 до 1 невключительно с интервалом 2. \n",
    "В чем разница между массивами a и b?\n",
    "'''\n",
    "a = np.arange(20, 0, -2)\n",
    "print('a =  ',a)\n",
    "b = np.arange(20, 1, -2)\n",
    "print('b =  ',b)\n",
    "print(a.ndim)\n",
    "print(a.shape)\n",
    "print(b.ndim)\n",
    "print(b.shape)\n",
    "print('В итоге, между массивами нет разницы')"
   ]
  },
  {
   "cell_type": "code",
   "execution_count": 27,
   "metadata": {},
   "outputs": [
    {
     "name": "stdout",
     "output_type": "stream",
     "text": [
      "Задача 7\n",
      "[[0. 0.]\n",
      " [0. 0.]]\n",
      "4\n",
      "[[1. 1.]\n",
      " [1. 1.]\n",
      " [1. 1.]]\n",
      "6\n",
      "[[0. 0.]\n",
      " [0. 0.]\n",
      " [1. 1.]\n",
      " [1. 1.]\n",
      " [1. 1.]]\n",
      "10\n"
     ]
    }
   ],
   "source": [
    "print('Задача 7')\n",
    "'''\n",
    "7. Вертикально соединить массивы a и b. a — двумерный массив из нулей, число строк которого больше 1 и на 1 меньше,\n",
    "чем число строк двумерного массива b, состоящего из единиц.\n",
    "Итоговый массив v должен иметь атрибут size, равный 10.\n",
    "'''\n",
    "a = np.zeros((2, 2))\n",
    "print(a)\n",
    "print(a.size)\n",
    "b = np.ones((3, 2))\n",
    "print(b)\n",
    "b.size\n",
    "print(b.size)\n",
    "v = np.vstack((a, b))\n",
    "print(v)\n",
    "print(v.size)"
   ]
  },
  {
   "cell_type": "code",
   "execution_count": 51,
   "metadata": {},
   "outputs": [
    {
     "name": "stdout",
     "output_type": "stream",
     "text": [
      "Задача 8\n",
      "a =   [ 0  1  2  3  4  5  6  7  8  9 10 11 12]\n",
      "Матрица А\n",
      "[[ 0  1  2]\n",
      " [ 3  4  5]\n",
      " [ 6  7  8]\n",
      " [ 9 10 11]]\n",
      "Транспонированная матрица At\n",
      "[[ 0  3  6  9]\n",
      " [ 1  4  7 10]\n",
      " [ 2  5  8 11]]\n",
      "Матрица B\n",
      "[[  5  14  23  32]\n",
      " [ 14  50  86 122]\n",
      " [ 23  86 149 212]\n",
      " [ 32 122 212 302]]\n",
      "Размер матрицы B =  16\n",
      "d =  0.0\n",
      "Определитель матрицы d=  0.0 Возможно вычислить обратную матрицу\n"
     ]
    }
   ],
   "source": [
    "print('Задача 8')\n",
    "'''\n",
    "8. Создать одномерный массив а, состоящий из последовательности целых чисел от 0 до 12. \n",
    "Поменять форму этого массива, чтобы получилась матрица A (двумерный массив Numpy), состоящая из 4 строк и 3 столбцов. \n",
    "Получить матрицу At путем транспонирования матрицы A. Получить матрицу B, умножив матрицу A на матрицу At с помощью \n",
    "матричного умножения.\n",
    "Какой размер имеет матрица B? Получится ли вычислить обратную матрицу для матрицы B и почему?\n",
    "'''\n",
    "a = np.arange(0, 13)\n",
    "print('a =  ',a)\n",
    "A = a.copy()\n",
    "A.resize(4,3)\n",
    "print('Матрица А')\n",
    "print(A)\n",
    "At = np.transpose(A)\n",
    "print('Транспонированная матрица At')\n",
    "print(At)\n",
    "B = A.dot(At)\n",
    "print('Матрица B')\n",
    "print(B)\n",
    "print('Размер матрицы B = ',B.size)\n",
    "d = np.linalg.det(B)\n",
    "print('d = ',d)\n",
    "\n",
    "if d == 0:\n",
    "    print('Определитель матрицы d= ', d, 'Возможно вычислить обратную матрицу')\n",
    "else:\n",
    "    print('Определитель матрицы d не рвен 0 ', d, 'Вычислить обратную матрицу невозможно ')"
   ]
  },
  {
   "cell_type": "code",
   "execution_count": 92,
   "metadata": {},
   "outputs": [
    {
     "name": "stdout",
     "output_type": "stream",
     "text": [
      "Задача 9\n",
      "[[ 6  3  6  2  8 11  6  0  3 12  3  4  8 14 12  9]]\n",
      "[[ 6  3  6  2]\n",
      " [ 8 11  6  0]\n",
      " [ 3 12  3  4]\n",
      " [ 8 14 12  9]]\n",
      "[[ 65  44  83  52]\n",
      " [ 94 160 146 122]\n",
      " [ 53 206 179 252]\n",
      " [112 262 332 392]]\n",
      "Определитель d =  0.0\n",
      "Ранг -  2\n",
      "Обратная матрица\n",
      "[[ 0.07190376 -0.02976751  0.04446973 -0.02886156]\n",
      " [-0.02046942  0.01647235 -0.00274596 -0.00064601]\n",
      " [-0.06201933  0.03440376 -0.05658366  0.03389497]\n",
      " [ 0.04566373 -0.03164246  0.03705257 -0.01747801]]\n"
     ]
    }
   ],
   "source": [
    "print('Задача 9')\n",
    "'''\n",
    "9. Инициализируйте генератор случайных числе с помощью объекта seed, равного 42. \n",
    "Создайте одномерный массив c, составленный из последовательности 16-ти случайных целых \n",
    "чисел от 0 до 16 невключительно. Поменяйте его форму так, чтобы получилась квадратная матрица C. \n",
    "Получите матрицу D, поэлементно прибавив матрицу B из предыдущего вопроса к матрице C, умноженной на 10. \n",
    "Вычислите определитель, ранг и обратную матрицу D_inv для D.\n",
    "'''\n",
    "import random\n",
    "random.seed(42)\n",
    "a = np.random.randint(0, 16,(1,16))\n",
    "print(a)\n",
    "C = a.reshape(4,4)\n",
    "print(C)\n",
    "D = C*10 + B\n",
    "print(D)\n",
    "d = np.linalg.det(B)\n",
    "print('Определитель d = ',d)\n",
    "r = np.linalg.matrix_rank(B)\n",
    "print('Ранг - ',r)\n",
    "print('Обратная матрица')\n",
    "D_inv = np.linalg.inv(D)\n",
    "print(D_inv)"
   ]
  },
  {
   "cell_type": "code",
   "execution_count": 93,
   "metadata": {},
   "outputs": [
    {
     "name": "stdout",
     "output_type": "stream",
     "text": [
      "Задача 9\n",
      "[[ 0.07190376 -0.02976751  0.04446973 -0.02886156]\n",
      " [-0.02046942  0.01647235 -0.00274596 -0.00064601]\n",
      " [-0.06201933  0.03440376 -0.05658366  0.03389497]\n",
      " [ 0.04566373 -0.03164246  0.03705257 -0.01747801]]\n",
      "[[1. 0. 1. 0.]\n",
      " [0. 1. 0. 0.]\n",
      " [0. 1. 0. 1.]\n",
      " [1. 0. 1. 0.]]\n",
      "[[  5  14  23  32]\n",
      " [ 14  50  86 122]\n",
      " [ 23  86 149 212]\n",
      " [ 32 122 212 302]]\n",
      "[[ 6  3  6  2]\n",
      " [ 8 11  6  0]\n",
      " [ 3 12  3  4]\n",
      " [ 8 14 12  9]]\n",
      "[[  5.   3.  23.   2.]\n",
      " [  8.  50.   6.   0.]\n",
      " [  3.  86.   3. 212.]\n",
      " [ 32.  14. 212.   9.]]\n"
     ]
    }
   ],
   "source": [
    "print('Задача 9')\n",
    "'''\n",
    "10. Приравняйте к нулю отрицательные числа в матрице D_inv, а положительные — к единице. \n",
    "Убедитесь, что в матрице D_inv остались только нули и единицы. С помощью функции numpy.where, \n",
    "используя матрицу D_inv в качестве маски, а матрицы B и C — в качестве источников данных, \n",
    "получите матрицу E размером 4x4. Элементы матрицы E, для которых соответствующий элемент матрицы D_inv равен 1, \n",
    "должны быть равны соответствующему элементу матрицы B, а элементы матрицы E, для которых соответствующий \n",
    "элемент матрицы D_inv равен 0, должны быть равны соответствующему элементу матрицы C.\n",
    "'''\n",
    "\n",
    "print(D_inv)\n",
    "D_inv[D_inv <0] =0\n",
    "D_inv[D_inv >0] =1\n",
    "print(D_inv)\n",
    "\n",
    "E = np.zeros((4, 4))\n",
    "#print(E)\n",
    "print(B)\n",
    "print(C)\n",
    "ind1 = np.where( D_inv == 1 ) \n",
    "#print(ind1)\n",
    "E[ind1] = B[ind1]\n",
    "#print(E)\n",
    "ind2 = np.where( D_inv == 0 ) \n",
    "#print(ind2)\n",
    "E[ind2] = C[ind2]\n",
    "print(E)\n",
    "\n"
   ]
  },
  {
   "cell_type": "code",
   "execution_count": 2,
   "metadata": {},
   "outputs": [
    {
     "name": "stdout",
     "output_type": "stream",
     "text": [
      "Задание 1\n"
     ]
    },
    {
     "data": {
      "image/png": "[encoded data removed]",
      "text/plain": [
       "<Figure size 432x288 with 1 Axes>"
      ]
     },
     "metadata": {
      "needs_background": "light"
     },
     "output_type": "display_data"
    },
    {
     "data": {
      "image/png": "[encoded data removed]",
      "text/plain": [
       "<Figure size 432x288 with 1 Axes>"
      ]
     },
     "metadata": {
      "needs_background": "light"
     },
     "output_type": "display_data"
    }
   ],
   "source": [
    "print('Задание 1')\n",
    "'''\n",
    "Задание 1\n",
    "Загрузите модуль pyplot библиотеки matplotlib с псевдонимом plt,\n",
    "а также библиотеку numpy с псевдонимом np.\n",
    "Примените магическую функцию %matplotlib inline для\n",
    "отображения графиков в Jupyter Notebook и\n",
    "настройки конфигурации ноутбука со значением 'svg' для\n",
    "более четкого отображения графиков.\n",
    "Создайте список под названием x с числами 1, 2, 3, 4, 5, 6, 7\n",
    "и список y с числами 3.5, 3.8, 4.2, 4.5, 5, 5.5, 7.\n",
    "С помощью функции plot постройте график, соединяющий линиями точки с горизонтальными координатами из списка x\n",
    "и вертикальными - из списка y.\n",
    "Затем в следующей ячейке постройте диаграмму рассеяния\n",
    "(другие названия - диаграмма разброса, scatter plot).\n",
    "'''\n",
    "import matplotlib.pyplot as plt\n",
    "import numpy as np\n",
    "%matplotlib inline\n",
    "x = [1,2,3,4,5,6,7]\n",
    "y = [3.5, 3.8, 4.2, 4.5, 5, 5.5, 7]\n",
    "\n",
    "plt.plot(x,y)\n",
    "#plt.yscale(value='log')\n",
    "plt.show()\n",
    "\n",
    "plt.scatter(x,y)\n",
    "plt.show()"
   ]
  },
  {
   "cell_type": "code",
   "execution_count": 12,
   "metadata": {},
   "outputs": [
    {
     "name": "stdout",
     "output_type": "stream",
     "text": [
      "Задание 2\n",
      "[ 0.   0.2  0.4  0.6  0.8  1.   1.2  1.4  1.6  1.8  2.   2.2  2.4  2.6\n",
      "  2.8  3.   3.2  3.4  3.6  3.8  4.   4.2  4.4  4.6  4.8  5.   5.2  5.4\n",
      "  5.6  5.8  6.   6.2  6.4  6.6  6.8  7.   7.2  7.4  7.6  7.8  8.   8.2\n",
      "  8.4  8.6  8.8  9.   9.2  9.4  9.6  9.8 10. ]\n",
      "[ 1.          0.98006658  0.92106099  0.82533561  0.69670671  0.54030231\n",
      "  0.36235775  0.16996714 -0.02919952 -0.22720209 -0.41614684 -0.58850112\n",
      " -0.73739372 -0.85688875 -0.94222234 -0.9899925  -0.99829478 -0.96679819\n",
      " -0.89675842 -0.79096771 -0.65364362 -0.49026082 -0.30733287 -0.11215253\n",
      "  0.08749898  0.28366219  0.46851667  0.63469288  0.77556588  0.88551952\n",
      "  0.96017029  0.9965421   0.99318492  0.95023259  0.86939749  0.75390225\n",
      "  0.60835131  0.43854733  0.25125984  0.05395542 -0.14550003 -0.33915486\n",
      " -0.51928865 -0.67872005 -0.81109301 -0.91113026 -0.97484362 -0.99969304\n",
      " -0.98468786 -0.93042627 -0.83907153]\n"
     ]
    },
    {
     "data": {
      "text/plain": [
       "(-2.5, 2.5)"
      ]
     },
     "execution_count": 12,
     "metadata": {},
     "output_type": "execute_result"
    },
    {
     "data": {
      "image/png": "[encoded data removed]",
      "text/plain": [
       "<Figure size 432x288 with 1 Axes>"
      ]
     },
     "metadata": {
      "needs_background": "light"
     },
     "output_type": "display_data"
    }
   ],
   "source": [
    "print('Задание 2')\n",
    "'''\n",
    "Задание 2\n",
    "С помощью функции linspace из библиотеки Numpy создайте массив t из 51 числа от 0 до 10 включительно.\n",
    "Создайте массив Numpy под названием f, содержащий косинусы элементов массива t.\n",
    "Постройте линейную диаграмму, используя массив t для координат по горизонтали,\n",
    "а массив f - для координат по вертикали. Лния графика должна быть зеленого цвета.\n",
    "Выведите название диаграммы - 'График f(t)'.\n",
    "Также добавьте названия для горизонтальной оси - 'Значения t'\n",
    "и для вертикальной - 'Значения f'.\n",
    "Ограничьте график по оси x значениями 0.5 и 9.5,\n",
    "а по оси y - значениями -2.5 и 2.5.\n",
    "'''\n",
    "t = np.linspace(0, 10, 51)\n",
    "print(t)\n",
    "f = np.cos(t)\n",
    "print(f)\n",
    "plt.plot(t,f,color='green')\n",
    "plt.title('График  f(t)')\n",
    "plt.xlabel('Значение t')\n",
    "plt.ylabel('Значение f')\n",
    "plt.xlim(0.5, 9.5)\n",
    "plt.ylim(-2.5,2.5)"
   ]
  },
  {
   "cell_type": "code",
   "execution_count": 21,
   "metadata": {},
   "outputs": [
    {
     "name": "stdout",
     "output_type": "stream",
     "text": [
      "Задание 3\n",
      "[ 0.   0.2  0.4  0.6  0.8  1.   1.2  1.4  1.6  1.8  2.   2.2  2.4  2.6\n",
      "  2.8  3.   3.2  3.4  3.6  3.8  4.   4.2  4.4  4.6  4.8  5.   5.2  5.4\n",
      "  5.6  5.8  6.   6.2  6.4  6.6  6.8  7.   7.2  7.4  7.6  7.8  8.   8.2\n",
      "  8.4  8.6  8.8  9.   9.2  9.4  9.6  9.8 10. ]\n",
      "y1\n",
      "[9.     8.2944 7.6176 6.9696 6.3504 5.76   5.1984 4.6656 4.1616 3.6864\n",
      " 3.24   2.8224 2.4336 2.0736 1.7424 1.44   1.1664 0.9216 0.7056 0.5184\n",
      " 0.36   0.2304 0.1296 0.0576 0.0144 0.     0.0144 0.0576 0.1296 0.2304\n",
      " 0.36   0.5184 0.7056 0.9216 1.1664 1.44   1.7424 2.0736 2.4336 2.8224\n",
      " 3.24   3.6864 4.1616 4.6656 5.1984 5.76   6.3504 6.9696 7.6176 8.2944\n",
      " 9.    ]\n",
      "y2\n",
      "[-5.5  -5.26 -5.02 -4.78 -4.54 -4.3  -4.06 -3.82 -3.58 -3.34 -3.1  -2.86\n",
      " -2.62 -2.38 -2.14 -1.9  -1.66 -1.42 -1.18 -0.94 -0.7  -0.46 -0.22  0.02\n",
      "  0.26  0.5   0.74  0.98  1.22  1.46  1.7   1.94  2.18  2.42  2.66  2.9\n",
      "  3.14  3.38  3.62  3.86  4.1   4.34  4.58  4.82  5.06  5.3   5.54  5.78\n",
      "  6.02  6.26  6.5 ]\n",
      "y3\n",
      "[  7.5    7.14   6.78   6.42   6.06   5.7    5.34   4.98   4.62   4.26\n",
      "   3.9    3.54   3.18   2.82   2.46   2.1    1.74   1.38   1.02   0.66\n",
      "   0.3   -0.06  -0.42  -0.78  -1.14  -1.5   -1.86  -2.22  -2.58  -2.94\n",
      "  -3.3   -3.66  -4.02  -4.38  -4.74  -5.1   -5.46  -5.82  -6.18  -6.54\n",
      "  -6.9   -7.26  -7.62  -7.98  -8.34  -8.7   -9.06  -9.42  -9.78 -10.14\n",
      " -10.5 ]\n",
      "y4\n",
      "[-0.14112001 -0.25861935 -0.37239904 -0.48082261 -0.58233065 -0.67546318\n",
      " -0.75888071 -0.83138346 -0.89192865 -0.93964547 -0.97384763 -0.9940432\n",
      " -0.99994172 -0.99145835 -0.9687151  -0.93203909 -0.88195781 -0.81919157\n",
      " -0.74464312 -0.65938467 -0.56464247 -0.46177918 -0.35227423 -0.23770263\n",
      " -0.11971221  0.          0.11971221  0.23770263  0.35227423  0.46177918\n",
      "  0.56464247  0.65938467  0.74464312  0.81919157  0.88195781  0.93203909\n",
      "  0.9687151   0.99145835  0.99994172  0.9940432   0.97384763  0.93964547\n",
      "  0.89192865  0.83138346  0.75888071  0.67546318  0.58233065  0.48082261\n",
      "  0.37239904  0.25861935  0.14112001]\n"
     ]
    },
    {
     "data": {
      "image/png": "[encoded data removed]",
      "text/plain": [
       "<Figure size 576x432 with 4 Axes>"
      ]
     },
     "metadata": {
      "needs_background": "light"
     },
     "output_type": "display_data"
    }
   ],
   "source": [
    "print('Задание 3')\n",
    "'''\n",
    "С помощью функции linspace библиотеки Numpy создайте массив x\n",
    "из 51 числа от -3 до 3 включительно.\n",
    "Создайте массивы y1, y2, y3, y4 по следующим формулам:\n",
    "y1 = x**2\n",
    "y2 = 2 * x + 0.5\n",
    "y3 = -3 * x - 1.5\n",
    "y4 = sin(x)\n",
    "Используя функцию subplots модуля matplotlib.pyplot,\n",
    "создайте объект matplotlib.figure.Figure с названием fig\n",
    "и массив объектов Axes под названием ax,\n",
    "причем так, чтобы у вас было 4 отдельных графика в сетке,\n",
    "состоящей из двух строк и двух столбцов.\n",
    "В каждом графике массив x используется для координат по горизонтали.\n",
    "В левом верхнем графике для координат по вертикали используйте y1,\n",
    "в правом верхнем - y2, в левом нижнем - y3, в правом нижнем - y4.\n",
    "Дайте название графикам: 'График y1', 'График y2' и т.д.\n",
    "Для графика в левом верхнем углу установите границы по оси x от -5 до 5.\n",
    "Установите размеры фигуры 8 дюймов по горизонтали и 6 дюймов по вертикали.\n",
    "Вертикальные и горизонтальные зазоры между графиками должны составлять 0.3.\n",
    "'''\n",
    "x = np.linspace(-3, 3, 51)\n",
    "print(t)\n",
    "y1 = x**2\n",
    "print('y1')\n",
    "print(y1)\n",
    "y2 = 2 * x + 0.5\n",
    "print('y2')\n",
    "print(y2)\n",
    "y3 = -3 * x - 1.5\n",
    "print('y3')\n",
    "print(y3)\n",
    "y4 = np.sin(x)\n",
    "print('y4')\n",
    "print(y4)\n",
    "fig,ax=plt.subplots(nrows=2,ncols=2)\n",
    "ax1,ax2,ax3,ax4 = ax.flatten()\n",
    "\n",
    "ax1.plot(x,y1)\n",
    "ax1.set_title('График y1')\n",
    "ax1.set_xlim([-5,5])\n",
    "\n",
    "ax2.plot(x,y2)\n",
    "ax2.set_title('График y2')\n",
    "\n",
    "\n",
    "ax3.plot(x,y3)\n",
    "ax3.set_title('График y3')\n",
    "\n",
    "\n",
    "ax4.plot(x,y4)\n",
    "ax4.set_title('График y4')\n",
    "\n",
    "fig.set_size_inches(8,6)\n",
    "plt.subplots_adjust(wspace=0.3, hspace=0.3)"
   ]
  },
  {
   "cell_type": "code",
   "execution_count": 27,
   "metadata": {},
   "outputs": [
    {
     "name": "stdout",
     "output_type": "stream",
     "text": [
      "Задание 4\n",
      "(284807, 31)\n",
      "<class 'pandas.core.frame.DataFrame'>\n",
      "RangeIndex: 284807 entries, 0 to 284806\n",
      "Data columns (total 31 columns):\n",
      "Time      284807 non-null float64\n",
      "V1        284807 non-null float64\n",
      "V2        284807 non-null float64\n",
      "V3        284807 non-null float64\n",
      "V4        284807 non-null float64\n",
      "V5        284807 non-null float64\n",
      "V6        284807 non-null float64\n",
      "V7        284807 non-null float64\n",
      "V8        284807 non-null float64\n",
      "V9        284807 non-null float64\n",
      "V10       284807 non-null float64\n",
      "V11       284807 non-null float64\n",
      "V12       284807 non-null float64\n",
      "V13       284807 non-null float64\n",
      "V14       284807 non-null float64\n",
      "V15       284807 non-null float64\n",
      "V16       284807 non-null float64\n",
      "V17       284807 non-null float64\n",
      "V18       284807 non-null float64\n",
      "V19       284807 non-null float64\n",
      "V20       284807 non-null float64\n",
      "V21       284807 non-null float64\n",
      "V22       284807 non-null float64\n",
      "V23       284807 non-null float64\n",
      "V24       284807 non-null float64\n",
      "V25       284807 non-null float64\n",
      "V26       284807 non-null float64\n",
      "V27       284807 non-null float64\n",
      "V28       284807 non-null float64\n",
      "Amount    284807 non-null float64\n",
      "Class     284807 non-null int64\n",
      "dtypes: float64(30), int64(1)\n",
      "memory usage: 67.4 MB\n",
      "None\n",
      "   Time        V1        V2        V3        V4        V5        V6        V7  \\\n",
      "0   0.0 -1.359807 -0.072781  2.536347  1.378155 -0.338321  0.462388  0.239599   \n",
      "1   0.0  1.191857  0.266151  0.166480  0.448154  0.060018 -0.082361 -0.078803   \n",
      "2   1.0 -1.358354 -1.340163  1.773209  0.379780 -0.503198  1.800499  0.791461   \n",
      "3   1.0 -0.966272 -0.185226  1.792993 -0.863291 -0.010309  1.247203  0.237609   \n",
      "4   2.0 -1.158233  0.877737  1.548718  0.403034 -0.407193  0.095921  0.592941   \n",
      "\n",
      "         V8        V9  ...       V21       V22       V23       V24       V25  \\\n",
      "0  0.098698  0.363787  ... -0.018307  0.277838 -0.110474  0.066928  0.128539   \n",
      "1  0.085102 -0.255425  ... -0.225775 -0.638672  0.101288 -0.339846  0.167170   \n",
      "2  0.247676 -1.514654  ...  0.247998  0.771679  0.909412 -0.689281 -0.327642   \n",
      "3  0.377436 -1.387024  ... -0.108300  0.005274 -0.190321 -1.175575  0.647376   \n",
      "4 -0.270533  0.817739  ... -0.009431  0.798278 -0.137458  0.141267 -0.206010   \n",
      "\n",
      "        V26       V27       V28  Amount  Class  \n",
      "0 -0.189115  0.133558 -0.021053  149.62      0  \n",
      "1  0.125895 -0.008983  0.014724    2.69      0  \n",
      "2 -0.139097 -0.055353 -0.059752  378.66      0  \n",
      "3 -0.221929  0.062723  0.061458  123.50      0  \n",
      "4  0.502292  0.219422  0.215153   69.99      0  \n",
      "\n",
      "[5 rows x 31 columns]\n"
     ]
    },
    {
     "data": {
      "text/plain": [
       "<matplotlib.axes._subplots.AxesSubplot at 0xa9a81d0>"
      ]
     },
     "execution_count": 27,
     "metadata": {},
     "output_type": "execute_result"
    },
    {
     "data": {
      "image/png": "[encoded data removed]",
      "text/plain": [
       "<Figure size 432x288 with 1 Axes>"
      ]
     },
     "metadata": {},
     "output_type": "display_data"
    }
   ],
   "source": [
    "print('Задание 4')\n",
    "'''\n",
    "В этом задании мы будем работать с датасетом, в котором приведены данные по мошенничеству с кредитными данными:\n",
    "Credit Card Fraud Detection (информация об авторах: Andrea Dal Pozzolo, Olivier Caelen, Reid A. Johnson \n",
    "and Gianluca Bontempi. Calibrating Probability with Undersampling for Unbalanced Classification. In Symposium \n",
    "on Computational Intelligence and Data Mining (CIDM), IEEE, 2015).\n",
    "Ознакомьтесь с описанием и скачайте датасет creditcard.csv.\n",
    "Данный датасет является примером несбалансированных данных, так как мошеннические операции с картами встречаются \n",
    "реже обычных.\n",
    "Импортруйте библиотеку Pandas, а также используйте для графиков стиль “fivethirtyeight”.\n",
    "Посчитайте с помощью метода value_counts количество наблюдений для каждого значения целевой переменной Class \n",
    "и примените к полученным данным метод plot, чтобы построить столбчатую диаграмму. Затем постройте такую \n",
    "же диаграмму, используя логарифмический масштаб.\n",
    "На следующем графике постройте две гистограммы по значениям признака V1 - одну для мошеннических транзакций \n",
    "(Class равен 1) и другую - для обычных (Class равен 0). Подберите значение аргумента density так, чтобы по \n",
    "вертикали графика было расположено не число наблюдений, а плотность распределения. Число бинов должно равняться 20 \n",
    "для обеих гистограмм, а коэффициент alpha сделайте равным 0.5, чтобы гистограммы были полупрозрачными и не \n",
    "загораживали друг друга. Создайте легенду с двумя значениями: “Class 0” и “Class 1”. \n",
    "Гистограмма обычных транзакций должна быть серого цвета, а мошеннических - красного. \n",
    "Горизонтальной оси дайте название “Class”.\n",
    "'''\n",
    "import pandas as pd\n",
    "\n",
    "plt.style.use('fivethirtyeight')\n",
    "df=pd.read_csv('creditcard.csv')\n",
    "print(df.shape)\n",
    "print(df.info())\n",
    "print(df.head())\n",
    "\n",
    "df['Class'].value_counts().plot(kind='bar')"
   ]
  },
  {
   "cell_type": "code",
   "execution_count": 28,
   "metadata": {},
   "outputs": [
    {
     "data": {
      "text/plain": [
       "<matplotlib.axes._subplots.AxesSubplot at 0x9061320>"
      ]
     },
     "execution_count": 28,
     "metadata": {},
     "output_type": "execute_result"
    },
    {
     "data": {
      "image/png": "[encoded data removed]",
      "text/plain": [
       "<Figure size 432x288 with 1 Axes>"
      ]
     },
     "metadata": {},
     "output_type": "display_data"
    }
   ],
   "source": [
    "df['Class'].value_counts().plot(kind='bar',log=True)"
   ]
  },
  {
   "cell_type": "code",
   "execution_count": 35,
   "metadata": {},
   "outputs": [
    {
     "data": {
      "text/plain": [
       "Text(0.5, 0, 'V1')"
      ]
     },
     "execution_count": 35,
     "metadata": {},
     "output_type": "execute_result"
    },
    {
     "data": {
      "image/png": "[encoded data removed]",
      "text/plain": [
       "<Figure size 432x288 with 1 Axes>"
      ]
     },
     "metadata": {},
     "output_type": "display_data"
    }
   ],
   "source": [
    "plt.hist(df.loc[df['Class']==0, 'V1'], bins=20,density = True,alpha = 0.5,color='grey')\n",
    "plt.hist(df.loc[df['Class']==1, 'V1'], bins=20,density = True,alpha = 0.5,color='red')\n",
    "plt.legend(['Class 0','Class 1'])\n",
    "plt.xlim(-32, -1)\n",
    "plt.ylim(0, 0.13)\n",
    "plt.xlabel('V1')"
   ]
  },
  {
   "cell_type": "code",
   "execution_count": null,
   "metadata": {},
   "outputs": [],
   "source": []
  }
 ],
 "metadata": {
  "kernelspec": {
   "display_name": "Python 3",
   "language": "python",
   "name": "python3"
  },
  "language_info": {
   "codemirror_mode": {
    "name": "ipython",
    "version": 3
   },
   "file_extension": ".py",
   "mimetype": "text/x-python",
   "name": "python",
   "nbconvert_exporter": "python",
   "pygments_lexer": "ipython3",
   "version": "3.7.3"
  }
 },
 "nbformat": 4,
 "nbformat_minor": 2
}
